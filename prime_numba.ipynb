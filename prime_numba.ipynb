{
 "metadata": {
  "language_info": {
   "codemirror_mode": {
    "name": "ipython",
    "version": 3
   },
   "file_extension": ".py",
   "mimetype": "text/x-python",
   "name": "python",
   "nbconvert_exporter": "python",
   "pygments_lexer": "ipython3",
   "version": "3.9.1"
  },
  "orig_nbformat": 2,
  "kernelspec": {
   "name": "python3",
   "display_name": "Python 3",
   "language": "python"
  }
 },
 "nbformat": 4,
 "nbformat_minor": 2,
 "cells": [
  {
   "cell_type": "code",
   "execution_count": 1,
   "metadata": {},
   "outputs": [
    {
     "output_type": "stream",
     "name": "stdout",
     "text": [
      "42.523086225  (seconds)\n"
     ]
    }
   ],
   "source": [
    "# python normal\n",
    "import math\n",
    "import timeit\n",
    "\n",
    "\n",
    "def is_prime(number):\n",
    "    if number == 2:\n",
    "        return True\n",
    "    if number <= 1 or not number % 2:\n",
    "        return False\n",
    "    max_range = int(math.sqrt(number)) + 1\n",
    "    for div in range(3, max_range, 2):\n",
    "        if not number % div:\n",
    "            return False\n",
    "    return True\n",
    "\n",
    "\n",
    "def run_program(max_number):\n",
    "    for number in range(max_number):\n",
    "        is_prime(number)\n",
    "\n",
    "\n",
    "if __name__ == '__main__':\n",
    "    max_number = 10000000\n",
    "    start = timeit.default_timer()\n",
    "    run_program(max_number)\n",
    "    stop = timeit.default_timer()\n",
    "    print(stop - start, \" (seconds)\")"
   ]
  },
  {
   "cell_type": "code",
   "execution_count": null,
   "metadata": {},
   "outputs": [],
   "source": [
    "# version numba"
   ]
  }
 ]
}